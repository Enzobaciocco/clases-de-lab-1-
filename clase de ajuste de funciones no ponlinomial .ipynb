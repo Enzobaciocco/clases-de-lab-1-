{
 "cells": [
  {
   "cell_type": "code",
   "execution_count": 14,
   "id": "439199d0",
   "metadata": {},
   "outputs": [],
   "source": [
    "import numpy as np\n",
    "import matplotlib.pyplot as plt\n",
    "datos = np.genfromtxt('ej-ajuste-03.txt')"
   ]
  },
  {
   "cell_type": "code",
   "execution_count": 1,
   "id": "a40d5a91",
   "metadata": {},
   "outputs": [
    {
     "ename": "NameError",
     "evalue": "name 'datos' is not defined",
     "output_type": "error",
     "traceback": [
      "\u001b[1;31m---------------------------------------------------------------------------\u001b[0m",
      "\u001b[1;31mNameError\u001b[0m                                 Traceback (most recent call last)",
      "\u001b[1;32m<ipython-input-1-8c44766965c1>\u001b[0m in \u001b[0;36m<module>\u001b[1;34m\u001b[0m\n\u001b[1;32m----> 1\u001b[1;33m \u001b[0mx\u001b[0m \u001b[1;33m=\u001b[0m \u001b[0mdatos\u001b[0m\u001b[1;33m[\u001b[0m\u001b[1;33m:\u001b[0m\u001b[1;33m,\u001b[0m\u001b[1;36m0\u001b[0m\u001b[1;33m]\u001b[0m\u001b[1;33m\u001b[0m\u001b[1;33m\u001b[0m\u001b[0m\n\u001b[0m\u001b[0;32m      2\u001b[0m \u001b[0my\u001b[0m \u001b[1;33m=\u001b[0m \u001b[0mdatos\u001b[0m\u001b[1;33m[\u001b[0m\u001b[1;33m:\u001b[0m\u001b[1;33m,\u001b[0m\u001b[1;36m1\u001b[0m\u001b[1;33m]\u001b[0m\u001b[1;33m\u001b[0m\u001b[1;33m\u001b[0m\u001b[0m\n\u001b[0;32m      3\u001b[0m \u001b[0mplt\u001b[0m\u001b[1;33m.\u001b[0m\u001b[0mscatter\u001b[0m\u001b[1;33m(\u001b[0m\u001b[0mx\u001b[0m\u001b[1;33m,\u001b[0m\u001b[0my\u001b[0m\u001b[1;33m)\u001b[0m\u001b[1;33m\u001b[0m\u001b[1;33m\u001b[0m\u001b[0m\n",
      "\u001b[1;31mNameError\u001b[0m: name 'datos' is not defined"
     ]
    }
   ],
   "source": [
    "x = datos[:,0]\n",
    "y = datos[:,1]\n",
    "plt.scatter(x,y)"
   ]
  },
  {
   "cell_type": "code",
   "execution_count": 10,
   "id": "68e7e2cf",
   "metadata": {},
   "outputs": [],
   "source": [
    "#usando esta funcion \n",
    "#f(x)=a+(e^-bx)sin(cx)#que es una onda amortiguada \n",
    "def f (x,a,b,c):\n",
    "    return a + np.exp(-b*x)*np.sin(c*x)\n"
   ]
  },
  {
   "cell_type": "code",
   "execution_count": 22,
   "id": "eadd8e29",
   "metadata": {},
   "outputs": [
    {
     "data": {
      "text/plain": [
       "[<matplotlib.lines.Line2D at 0x201b749c580>]"
      ]
     },
     "execution_count": 22,
     "metadata": {},
     "output_type": "execute_result"
    },
    {
     "data": {
      "image/png": "[encoded data removed]",
      "text/plain": [
       "<Figure size 432x288 with 1 Axes>"
      ]
     },
     "metadata": {
      "needs_background": "light"
     },
     "output_type": "display_data"
    }
   ],
   "source": [
    "a = 1\n",
    "b = 1\n",
    "c = 1\n",
    "\n",
    "plt.scatter(x,y)\n",
    "plt.grid(True)\n",
    "xx = np.linspace(np.min(x),np.max(x),100)\n",
    "plt.plot(xx,f(xx,a,b,c))                 "
   ]
  },
  {
   "cell_type": "code",
   "execution_count": 23,
   "id": "e5144e0e",
   "metadata": {},
   "outputs": [],
   "source": [
    "from scipy.optimize import curve_fit"
   ]
  },
  {
   "cell_type": "code",
   "execution_count": 27,
   "id": "72840296",
   "metadata": {},
   "outputs": [],
   "source": [
    "a_opt, b_opt, c_opt = curve_fit(f,x,y)[0]#entrada es funcion x e y #entrea arreglo dos arreglos una con los valores optimizados"
   ]
  },
  {
   "cell_type": "code",
   "execution_count": 30,
   "id": "e8b365d4",
   "metadata": {},
   "outputs": [
    {
     "name": "stdout",
     "output_type": "stream",
     "text": [
      "a opt = 0.48091595193648246\n",
      "b opt =  1.0262334541376952\n",
      "c opt = 1.9160350605238217\n"
     ]
    }
   ],
   "source": [
    "#entrega arreglo con los datos de las variables optimas \n",
    "a_opt, b_opt, c_opt = curve_fit(f,x,y)[0]\n",
    "print(\"a opt =\",a_opt)\n",
    "print(\"b opt = \", b_opt)\n",
    "print(\"c opt =\", c_opt )"
   ]
  },
  {
   "cell_type": "code",
   "execution_count": 32,
   "id": "28f2df09",
   "metadata": {},
   "outputs": [],
   "source": [
    "#aprendiendo nueva funcion \n",
    "from scipy.optimize import leastsq#entrada es el residuo de la funcion y un punto de inicio para la busueda de punto optimo "
   ]
  },
  {
   "cell_type": "code",
   "execution_count": 37,
   "id": "7ca63ee0",
   "metadata": {},
   "outputs": [],
   "source": [
    "#primero definimos la funcion de los residuos\n",
    "def res(p,x,y):#p es una arreglo de todos los residuos\n",
    "    return y-f(x,p[0],p[1],p[2])#los p0 p1 p2 son los parametros a b c \n"
   ]
  },
  {
   "cell_type": "code",
   "execution_count": 39,
   "id": "83c7c07d",
   "metadata": {},
   "outputs": [
    {
     "data": {
      "text/plain": [
       "(array([0.48091599, 1.02623418, 1.91603513]), 1)"
      ]
     },
     "execution_count": 39,
     "metadata": {},
     "output_type": "execute_result"
    }
   ],
   "source": [
    "p_ini = [0.3,1.1,1.9]\n",
    "#ahora podemos usar la funcion leastsq\n",
    "leastsq(res,p_ini,args=(x,y))"
   ]
  },
  {
   "cell_type": "code",
   "execution_count": null,
   "id": "2aeedd9a",
   "metadata": {},
   "outputs": [],
   "source": [
    "#la funcion entrega un arrgelo con los parametros optimizaos "
   ]
  },
  {
   "cell_type": "code",
   "execution_count": null,
   "id": "2030ce47",
   "metadata": {},
   "outputs": [],
   "source": []
  }
 ],
 "metadata": {
  "kernelspec": {
   "display_name": "Python 3",
   "language": "python",
   "name": "python3"
  },
  "language_info": {
   "codemirror_mode": {
    "name": "ipython",
    "version": 3
   },
   "file_extension": ".py",
   "mimetype": "text/x-python",
   "name": "python",
   "nbconvert_exporter": "python",
   "pygments_lexer": "ipython3",
   "version": "3.8.8"
  }
 },
 "nbformat": 4,
 "nbformat_minor": 5
}
