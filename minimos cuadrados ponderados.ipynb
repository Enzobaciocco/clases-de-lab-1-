{
 "cells": [
  {
   "cell_type": "code",
   "execution_count": null,
   "id": "f9337f44",
   "metadata": {},
   "outputs": [],
   "source": [
    "#metodo de minimos ponderados \n",
    "#w=1/(err dato)**2"
   ]
  },
  {
   "cell_type": "code",
   "execution_count": 3,
   "id": "23fb3cbf",
   "metadata": {},
   "outputs": [],
   "source": [
    "import numpy as np\n",
    "import matplotlib.pyplot as plt\n",
    "datos = np.genfromtxt(\"ej-ajuste-04.txt\")\n",
    "x = datos[:,0]\n",
    "y = datos[:,1]\n",
    "dy= datos[:,2]\n",
    "w = 1/(dy)**2"
   ]
  },
  {
   "cell_type": "code",
   "execution_count": 16,
   "id": "f0edf762",
   "metadata": {},
   "outputs": [
    {
     "data": {
      "text/plain": [
       "array([0.32857143, 2.53333333])"
      ]
     },
     "execution_count": 16,
     "metadata": {},
     "output_type": "execute_result"
    }
   ],
   "source": [
    "np.polyfit(x,y,1)#se pueden  usar tambien para minimos cuadradros"
   ]
  },
  {
   "cell_type": "code",
   "execution_count": 17,
   "id": "03a2caa4",
   "metadata": {},
   "outputs": [
    {
     "data": {
      "text/plain": [
       "array([0.45713123, 2.34204248])"
      ]
     },
     "execution_count": 17,
     "metadata": {},
     "output_type": "execute_result"
    }
   ],
   "source": [
    "np.polyfit(x,y,1,w=1/dy)#ahora da llos valores ponderados "
   ]
  },
  {
   "cell_type": "code",
   "execution_count": 18,
   "id": "57df9222",
   "metadata": {},
   "outputs": [],
   "source": [
    "a1,a0 = np.polyfit(x,y,1,w=1/dy)"
   ]
  },
  {
   "cell_type": "code",
   "execution_count": 7,
   "id": "ac810a49",
   "metadata": {},
   "outputs": [
    {
     "data": {
      "text/plain": [
       "<matplotlib.legend.Legend at 0x1ee3bdf1a30>"
      ]
     },
     "execution_count": 7,
     "metadata": {},
     "output_type": "execute_result"
    },
    {
     "data": {
      "image/png": "[encoded data removed]",
      "text/plain": [
       "<Figure size 432x288 with 1 Axes>"
      ]
     },
     "metadata": {
      "needs_background": "light"
     },
     "output_type": "display_data"
    }
   ],
   "source": [
    "a = np.polyfit(x,y,3)\n",
    "b = np.polyfit(x,y,3,w=1/dy)\n",
    "plt.errorbar(x,y,yerr=dy,fmt=\"o\")\n",
    "xx = np.linspace(1,7,1000) \n",
    "plt.plot(xx,np.polyval(a,xx),label=\"no ponderado\")\n",
    "plt.plot(xx,np.polyval(b,xx),label=\"ponderado\")\n",
    "plt.legend()\n"
   ]
  },
  {
   "cell_type": "code",
   "execution_count": null,
   "id": "cab0e595",
   "metadata": {},
   "outputs": [],
   "source": [
    "from scipy.stats import linregress#para regresiones lineales de polinomios"
   ]
  },
  {
   "cell_type": "code",
   "execution_count": 38,
   "id": "3cf599c1",
   "metadata": {},
   "outputs": [],
   "source": [
    "from scipy.optimize import curve_fit#sirve para cualquier funcion\n",
    "def f(x,a,b):\n",
    "    return a+b*np.log(x)\n"
   ]
  },
  {
   "cell_type": "code",
   "execution_count": 39,
   "id": "a6436559",
   "metadata": {},
   "outputs": [
    {
     "data": {
      "text/plain": [
       "array([2.65739898, 1.15471855])"
      ]
     },
     "execution_count": 39,
     "metadata": {},
     "output_type": "execute_result"
    }
   ],
   "source": [
    "curve_fit(f,x,y,sigma=dy)[0]"
   ]
  },
  {
   "cell_type": "code",
   "execution_count": 9,
   "id": "6200465b",
   "metadata": {},
   "outputs": [],
   "source": [
    "def respon(a,x,y,dy):\n",
    "    #residuos ponderados \n",
    "    return (y-a[0]-a[1]*x)/dy\n"
   ]
  },
  {
   "cell_type": "code",
   "execution_count": 11,
   "id": "bdb1f1b2",
   "metadata": {},
   "outputs": [
    {
     "data": {
      "text/plain": [
       "array([2.34204247, 0.45713123])"
      ]
     },
     "execution_count": 11,
     "metadata": {},
     "output_type": "execute_result"
    }
   ],
   "source": [
    "from scipy.optimize import leastsq\n",
    "a_in = [1,1]\n",
    "leastsq(respon,a_in,args=(x,y,dy))[0]"
   ]
  },
  {
   "cell_type": "code",
   "execution_count": null,
   "id": "3ddaba60",
   "metadata": {},
   "outputs": [],
   "source": []
  }
 ],
 "metadata": {
  "kernelspec": {
   "display_name": "Python 3",
   "language": "python",
   "name": "python3"
  },
  "language_info": {
   "codemirror_mode": {
    "name": "ipython",
    "version": 3
   },
   "file_extension": ".py",
   "mimetype": "text/x-python",
   "name": "python",
   "nbconvert_exporter": "python",
   "pygments_lexer": "ipython3",
   "version": "3.8.8"
  }
 },
 "nbformat": 4,
 "nbformat_minor": 5
}
