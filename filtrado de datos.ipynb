{
 "cells": [
  {
   "cell_type": "code",
   "execution_count": 3,
   "id": "743acf71-ab87-4161-82af-c1abb88378ac",
   "metadata": {},
   "outputs": [],
   "source": [
    "import numpy as np\n",
    "import matplotlib.pyplot as plt\n",
    "\n"
   ]
  },
  {
   "cell_type": "code",
   "execution_count": 1,
   "id": "60f5a01e-8abe-4988-a19f-d3bfab4e8156",
   "metadata": {},
   "outputs": [],
   "source": [
    "   # usar un arreglo para los x (posiciones) y usar un arreglo para la altura \n"
   ]
  },
  {
   "cell_type": "code",
   "execution_count": 27,
   "id": "d679ece8-3032-4f36-9ff6-699306b60f57",
   "metadata": {},
   "outputs": [
    {
     "data": {
      "text/plain": [
       "<BarContainer object of 10 artists>"
      ]
     },
     "execution_count": 27,
     "metadata": {},
     "output_type": "execute_result"
    },
    {
     "data": {
      "image/png": "[encoded data removed]",
      "text/plain": [
       "<Figure size 432x288 with 1 Axes>"
      ]
     },
     "metadata": {
      "needs_background": "light"
     },
     "output_type": "display_data"
    }
   ],
   "source": [
    "x=np.arange(1,11)\n",
    "y=x*2\n",
    "plt.bar(x,y, width=0.9, color=\"red\" ,align = \"edge\",yerr=1)\n",
    "#align es la posicion de la barra respecto a x centro isquierda derecha etc\n"
   ]
  },
  {
   "cell_type": "code",
   "execution_count": 28,
   "id": "b86f0793-e20b-43a0-9a9e-787d74947590",
   "metadata": {},
   "outputs": [],
   "source": [
    "#histogramas\n"
   ]
  },
  {
   "cell_type": "code",
   "execution_count": 64,
   "id": "4cd815cb-b4fe-4cbb-8428-d1417c71eca6",
   "metadata": {},
   "outputs": [
    {
     "name": "stdout",
     "output_type": "stream",
     "text": [
      "[2 2 3 6 4 5 5 5 5 2 1 6 6 3 3 2 1 3 3 2]\n"
     ]
    },
    {
     "data": {
      "text/plain": [
       "numpy.ndarray"
      ]
     },
     "execution_count": 64,
     "metadata": {},
     "output_type": "execute_result"
    }
   ],
   "source": [
    "#simular un dado\n",
    "dados=np.random.randint(1,7,size=20)#rand int es random de enteros desde hasta abierto en hasta \n",
    "#size es el tamaño del arreglo extraido\n",
    "print (d)\n",
    "type(d)"
   ]
  },
  {
   "cell_type": "code",
   "execution_count": 54,
   "id": "5c2881bf-7de9-4f17-8d18-dc1671f77036",
   "metadata": {},
   "outputs": [
    {
     "name": "stdout",
     "output_type": "stream",
     "text": [
      "(array([5, 6, 7, 8], dtype=int64),)\n"
     ]
    }
   ],
   "source": [
    "donde=np.where(d==5)#esto te dice donde esta el valor igual a uno en este caso \n",
    "print(donde)"
   ]
  },
  {
   "cell_type": "code",
   "execution_count": 62,
   "id": "da447ab3-966a-47fd-b4ae-2ac54a5ca91b",
   "metadata": {},
   "outputs": [
    {
     "data": {
      "text/plain": [
       "4"
      ]
     },
     "execution_count": 62,
     "metadata": {},
     "output_type": "execute_result"
    }
   ],
   "source": [
    "len((donde[0]))#LEN cuenta el tamaño del arreglo\n"
   ]
  },
  {
   "cell_type": "code",
   "execution_count": 63,
   "id": "f482af7e-2d9b-47d9-8e43-a8b101db0c67",
   "metadata": {},
   "outputs": [
    {
     "data": {
      "text/plain": [
       "4"
      ]
     },
     "execution_count": 63,
     "metadata": {},
     "output_type": "execute_result"
    }
   ],
   "source": [
    "np.size(donde)#size tambien cuenta el tamaño del arreglo \n"
   ]
  },
  {
   "cell_type": "code",
   "execution_count": 78,
   "id": "9a02f874-5c69-4f26-adcd-dded423ca09b",
   "metadata": {},
   "outputs": [
    {
     "data": {
      "text/plain": [
       "(array([2, 4, 2, 2, 5, 5], dtype=int64),\n",
       " array([0.5, 1.5, 2.5, 3.5, 4.5, 5.5, 6.5]))"
      ]
     },
     "execution_count": 78,
     "metadata": {},
     "output_type": "execute_result"
    }
   ],
   "source": [
    "np.histogram(dados,bins=np.arange(0.5,7.5,1))#cuenta los valores entre 0.5 y 7.5 de uno en uno es decir "
   ]
  },
  {
   "cell_type": "code",
   "execution_count": 82,
   "id": "2bbf0dc3-322f-4a42-bae4-132c4f5e0ba8",
   "metadata": {},
   "outputs": [],
   "source": [
    "#justo de uno en uno pero partiendo del 0.5 como dice el arreglo de arriba \n",
    "#primera lista es lista con el valor de las variables , segunda lsta listab de como se hizo el conteo"
   ]
  },
  {
   "cell_type": "code",
   "execution_count": 86,
   "id": "381871a4-0cbd-44d5-8a9a-4d724fc9fb3f",
   "metadata": {},
   "outputs": [
    {
     "data": {
      "text/plain": [
       "array([2, 4, 2, 2, 5, 5], dtype=int64)"
      ]
     },
     "execution_count": 86,
     "metadata": {},
     "output_type": "execute_result"
    }
   ],
   "source": [
    "conteo = np.histogram(dados,bins=np.arange(0.5,7.5,1))[0]#asi se filtra solo el primer arreglo de conteo"
   ]
  },
  {
   "cell_type": "code",
   "execution_count": 90,
   "id": "b5ac0ae3-6b07-4a0f-a932-ebc118979c69",
   "metadata": {},
   "outputs": [
    {
     "name": "stdout",
     "output_type": "stream",
     "text": [
      "conteeeeo\n"
     ]
    }
   ],
   "source": []
  },
  {
   "cell_type": "code",
   "execution_count": 113,
   "id": "983824b0-7b51-4452-a91a-a757498ef78e",
   "metadata": {},
   "outputs": [
    {
     "name": "stdout",
     "output_type": "stream",
     "text": [
      "[ 99841  99952 100383 100013  99979  99832]\n"
     ]
    },
    {
     "data": {
      "text/plain": [
       "<BarContainer object of 6 artists>"
      ]
     },
     "execution_count": 113,
     "metadata": {},
     "output_type": "execute_result"
    },
    {
     "data": {
      "image/png": "[encoded data removed]",
      "text/plain": [
       "<Figure size 432x288 with 1 Axes>"
      ]
     },
     "metadata": {
      "needs_background": "light"
     },
     "output_type": "display_data"
    }
   ],
   "source": [
    "N=600000 #NUMERO DE TIROS DEL DADO\n",
    "dados=np.random.randint(1,7,N)#SIMULACION DE TIROS\n",
    "conteo = (np.histogram(dados,bins=np.arange(0.5,7.5,1))[0])#CONTADOR FILTRANDO PRIMER ARREGLO \n",
    "print(conteo)\n",
    "plt.bar(range(1,7),conteo)\n"
   ]
  },
  {
   "cell_type": "code",
   "execution_count": 109,
   "id": "cfc56a58-1172-4fe1-8522-ce1e9c4d3828",
   "metadata": {},
   "outputs": [
    {
     "data": {
      "text/plain": [
       "<BarContainer object of 6 artists>"
      ]
     },
     "execution_count": 109,
     "metadata": {},
     "output_type": "execute_result"
    },
    {
     "data": {
      "image/png": "[encoded data removed]",
      "text/plain": [
       "<Figure size 432x288 with 1 Axes>"
      ]
     },
     "metadata": {
      "needs_background": "light"
     },
     "output_type": "display_data"
    }
   ],
   "source": [
    "plt.bar(range(1,7),conteo)#cuidado con la estructura de los parentesis "
   ]
  },
  {
   "cell_type": "code",
   "execution_count": 124,
   "id": "6c8fa98c-1a6a-4136-a001-62196b37a5fb",
   "metadata": {},
   "outputs": [
    {
     "name": "stdout",
     "output_type": "stream",
     "text": [
      "[ -6.1 -15.4 -15.  ...   4.9   0.6  -2.6]\n"
     ]
    }
   ],
   "source": [
    "datos1 = (np.genfromtxt(\"datos.txt\"))\n",
    "datos2 = (np.genfromtxt(\"stockholm_td_adj.dat\"))\n",
    "tmax = (datos2[:,3])##todo intersectado con la columna 3 es la columna 3\n",
    "print(tmax)\n"
   ]
  },
  {
   "cell_type": "code",
   "execution_count": 131,
   "id": "c9ffdf05-d6dc-418c-9f5a-0d51463be0ce",
   "metadata": {},
   "outputs": [
    {
     "data": {
      "text/plain": [
       "<matplotlib.collections.PathCollection at 0x25348854f10>"
      ]
     },
     "execution_count": 131,
     "metadata": {},
     "output_type": "execute_result"
    },
    {
     "data": {
      "image/png": "[encoded data removed]",
      "text/plain": [
       "<Figure size 432x288 with 1 Axes>"
      ]
     },
     "metadata": {
      "needs_background": "light"
     },
     "output_type": "display_data"
    }
   ],
   "source": [
    "plt.scatter(range(1,len(tmax)+1),tmax)\n",
    "#entonces la x es un rango de 1 hasta la tmax+1 (esto son los dias de medision ) y la y es tmax "
   ]
  },
  {
   "cell_type": "code",
   "execution_count": 133,
   "id": "40def7ef-ae9b-4e75-b8b3-551c9caa6869",
   "metadata": {},
   "outputs": [
    {
     "data": {
      "text/plain": [
       "(array([0.000e+00, 0.000e+00, 0.000e+00, 0.000e+00, 2.000e+00, 6.000e+00,\n",
       "        4.000e+00, 4.000e+00, 9.000e+00, 2.300e+01, 3.300e+01, 2.700e+01,\n",
       "        4.800e+01, 8.300e+01, 1.190e+02, 1.510e+02, 2.060e+02, 2.590e+02,\n",
       "        3.740e+02, 4.540e+02, 5.840e+02, 7.920e+02, 9.290e+02, 1.097e+03,\n",
       "        1.397e+03, 1.606e+03, 1.865e+03, 2.283e+03, 2.774e+03, 3.185e+03,\n",
       "        3.979e+03, 4.117e+03, 3.817e+03, 3.323e+03, 2.974e+03, 2.774e+03,\n",
       "        2.635e+03, 2.427e+03, 2.427e+03, 2.412e+03, 2.522e+03, 2.738e+03,\n",
       "        2.789e+03, 3.051e+03, 3.115e+03, 3.187e+03, 2.884e+03, 2.374e+03,\n",
       "        1.859e+03, 1.356e+03, 9.270e+02, 6.380e+02, 3.610e+02, 2.360e+02,\n",
       "        1.230e+02, 4.800e+01, 1.800e+01, 5.000e+00, 1.000e+00]),\n",
       " array([-30, -29, -28, -27, -26, -25, -24, -23, -22, -21, -20, -19, -18,\n",
       "        -17, -16, -15, -14, -13, -12, -11, -10,  -9,  -8,  -7,  -6,  -5,\n",
       "         -4,  -3,  -2,  -1,   0,   1,   2,   3,   4,   5,   6,   7,   8,\n",
       "          9,  10,  11,  12,  13,  14,  15,  16,  17,  18,  19,  20,  21,\n",
       "         22,  23,  24,  25,  26,  27,  28,  29]),\n",
       " <BarContainer object of 59 artists>)"
      ]
     },
     "execution_count": 133,
     "metadata": {},
     "output_type": "execute_result"
    },
    {
     "data": {
      "image/png": "[encoded data removed]",
      "text/plain": [
       "<Figure size 432x288 with 1 Axes>"
      ]
     },
     "metadata": {
      "needs_background": "light"
     },
     "output_type": "display_data"
    }
   ],
   "source": [
    "plt.hist(tmax,np.arange(-30,30,1))\n",
    "#funcion hist hace un histograma den una \n",
    "#(datos, intervalos de medicion para el conteo)\n",
    "#de -30 hasta 31 para ser 30 de uno en uno "
   ]
  },
  {
   "cell_type": "code",
   "execution_count": null,
   "id": "bd43a1fd",
   "metadata": {},
   "outputs": [],
   "source": []
  },
  {
   "cell_type": "code",
   "execution_count": 136,
   "id": "31f1021d-371f-4d7d-a9e8-e175e039bc45",
   "metadata": {},
   "outputs": [
    {
     "data": {
      "text/plain": [
       "(array([  1.,   0.,   0.,   0.,   0.,   0.,   1.,   0.,   0.,   1.,   0.,\n",
       "          2.,   0.,   0.,   0.,   0.,   1.,   1.,   1.,   0.,   0.,   1.,\n",
       "          0.,   2.,   0.,   0.,   0.,   1.,   0.,   0.,   0.,   0.,   0.,\n",
       "          1.,   0.,   2.,   0.,   0.,   0.,   0.,   0.,   1.,   1.,   1.,\n",
       "          2.,   0.,   0.,   1.,   1.,   1.,   0.,   2.,   0.,   0.,   4.,\n",
       "          0.,   2.,   2.,   5.,   6.,   1.,   0.,   2.,   1.,   2.,   3.,\n",
       "          3.,   1.,   7.,   5.,   0.,   0.,   5.,   1.,   6.,   0.,   3.,\n",
       "          6.,   0.,   3.,   4.,   0.,   2.,   2.,   3.,   4.,   2.,   1.,\n",
       "          2.,   5.,   3.,   0.,   7.,   6.,   9.,   6.,   7.,  10.,  14.,\n",
       "          9.,   6.,   0.,   4.,   6.,  10.,   2.,   7.,  15.,  14.,   6.,\n",
       "         12.,   0.,  12.,  14.,  12.,   8.,  14.,   9.,  18.,  15.,  11.,\n",
       "         21.,   0.,  15.,  15.,  12.,  17.,  12.,  12.,  21.,  19.,  13.,\n",
       "          0.,  22.,  16.,  17.,  22.,  23.,  27.,  28.,  19.,  24.,   0.,\n",
       "         16.,  39.,  30.,  26.,  27.,  21.,  25.,  24.,  27.,   0.,  40.,\n",
       "         35.,  37.,  42.,  27.,  36.,  30.,  39.,  38.,   0.,  50.,  35.,\n",
       "         44.,  53.,  40.,  38.,  38.,  56.,  33.,   0.,  55.,  62.,  50.,\n",
       "         57.,  62.,  49.,  62.,  62.,  47.,  70.,   0.,  63.,  62.,  70.,\n",
       "         78.,  80.,  72.,  81.,  83.,  84.,   0.,  70.,  70., 104.,  87.,\n",
       "         89.,  97.,  98.,  91.,  93.,   0.,  77.,  86., 100., 111., 101.,\n",
       "        103.,  92., 112., 109.,   0., 121.,  97., 120., 116., 126., 128.,\n",
       "        118., 143., 138.,   0., 132., 144., 143., 123., 154., 174., 164.,\n",
       "        151., 160.,   0., 144., 145., 162., 176., 157., 176., 171., 165.,\n",
       "        169., 201.,   0., 154., 208., 199., 209., 181., 179., 200., 231.,\n",
       "        193.,   0., 215., 220., 241., 215., 241., 243., 225., 259., 250.,\n",
       "          0., 236., 281., 236., 268., 293., 300., 285., 302., 323.,   0.,\n",
       "        331., 265., 327., 317., 327., 309., 298., 346., 310.,   0., 355.,\n",
       "        373., 352., 390., 369., 405., 390., 407., 416.,   0., 415., 462.,\n",
       "        414., 421., 429., 395., 397., 405., 426., 411.,   0., 402., 417.,\n",
       "        402., 347., 401., 396., 425., 381., 373.,   0., 379., 331., 382.,\n",
       "        346., 336., 346., 354., 341., 318.,   0., 314., 338., 305., 325.,\n",
       "        320., 313., 341., 294., 275.,   0., 289., 300., 278., 273., 291.,\n",
       "        277., 276., 308., 275.,   0., 293., 254., 312., 270., 243., 266.,\n",
       "        279., 276., 280.,   0., 270., 268., 254., 267., 242., 246., 253.,\n",
       "        275., 257., 271.,   0., 219., 224., 233., 224., 237., 251., 236.,\n",
       "        246., 221.,   0., 233., 283., 240., 228., 238., 235., 253., 250.,\n",
       "        241.,   0., 233., 234., 256., 258., 245., 221., 244., 238., 242.,\n",
       "          0., 261., 234., 257., 244., 258., 260., 261., 261., 255.,   0.,\n",
       "        231., 289., 242., 282., 299., 267., 235., 314., 269.,   0., 266.,\n",
       "        275., 288., 295., 297., 247., 307., 269., 269., 251.,   0., 289.,\n",
       "        277., 286., 278., 355., 309., 321., 301., 316.,   0., 309., 286.,\n",
       "        290., 308., 327., 326., 296., 302., 305.,   0., 310., 318., 303.,\n",
       "        320., 374., 320., 337., 309., 328.,   0., 307., 313., 324., 293.,\n",
       "        282., 315., 286., 313., 309.,   0., 301., 269., 284., 263., 290.,\n",
       "        254., 242., 245., 240.,   0., 258., 248., 215., 243., 208., 237.,\n",
       "        238., 201., 208., 212.,   0., 176., 176., 177., 170., 185., 174.,\n",
       "        180., 156., 150.,   0., 145., 162., 134., 132., 125., 129., 115.,\n",
       "        108., 121.,   0., 104., 103.,  92.,  82.,  99.,  78.,  81.,  86.,\n",
       "         81.,   0.,  77.,  78.,  71.,  74.,  69.,  66.,  62.,  46.,  59.,\n",
       "          0.,  36.,  55.,  30.,  49.,  42.,  33.,  29.,  40.,  28.,   0.,\n",
       "         29.,  26.,  38.,  29.,  28.,  30.,  16.,  21.,  18.,  21.,   0.,\n",
       "         20.,  15.,  19.,  11.,  18.,  16.,   8.,  16.,  12.,   0.,   7.,\n",
       "         14.,   2.,   5.,   8.,   3.,   8.,   5.,   4.,   0.,   6.,   3.,\n",
       "          5.,   1.,   4.,   1.,   3.,   1.,   1.,   0.,   1.,   3.,   3.,\n",
       "          1.,   0.,   1.,   2.,   1.,   0.,   0.,   0.,   0.,   1.,   0.,\n",
       "          0.,   0.,   0.,   0.,   0.,   1.]),\n",
       " array([-2.58000000e+01, -2.57098333e+01, -2.56196667e+01, -2.55295000e+01,\n",
       "        -2.54393333e+01, -2.53491667e+01, -2.52590000e+01, -2.51688333e+01,\n",
       "        -2.50786667e+01, -2.49885000e+01, -2.48983333e+01, -2.48081667e+01,\n",
       "        -2.47180000e+01, -2.46278333e+01, -2.45376667e+01, -2.44475000e+01,\n",
       "        -2.43573333e+01, -2.42671667e+01, -2.41770000e+01, -2.40868333e+01,\n",
       "        -2.39966667e+01, -2.39065000e+01, -2.38163333e+01, -2.37261667e+01,\n",
       "        -2.36360000e+01, -2.35458333e+01, -2.34556667e+01, -2.33655000e+01,\n",
       "        -2.32753333e+01, -2.31851667e+01, -2.30950000e+01, -2.30048333e+01,\n",
       "        -2.29146667e+01, -2.28245000e+01, -2.27343333e+01, -2.26441667e+01,\n",
       "        -2.25540000e+01, -2.24638333e+01, -2.23736667e+01, -2.22835000e+01,\n",
       "        -2.21933333e+01, -2.21031667e+01, -2.20130000e+01, -2.19228333e+01,\n",
       "        -2.18326667e+01, -2.17425000e+01, -2.16523333e+01, -2.15621667e+01,\n",
       "        -2.14720000e+01, -2.13818333e+01, -2.12916667e+01, -2.12015000e+01,\n",
       "        -2.11113333e+01, -2.10211667e+01, -2.09310000e+01, -2.08408333e+01,\n",
       "        -2.07506667e+01, -2.06605000e+01, -2.05703333e+01, -2.04801667e+01,\n",
       "        -2.03900000e+01, -2.02998333e+01, -2.02096667e+01, -2.01195000e+01,\n",
       "        -2.00293333e+01, -1.99391667e+01, -1.98490000e+01, -1.97588333e+01,\n",
       "        -1.96686667e+01, -1.95785000e+01, -1.94883333e+01, -1.93981667e+01,\n",
       "        -1.93080000e+01, -1.92178333e+01, -1.91276667e+01, -1.90375000e+01,\n",
       "        -1.89473333e+01, -1.88571667e+01, -1.87670000e+01, -1.86768333e+01,\n",
       "        -1.85866667e+01, -1.84965000e+01, -1.84063333e+01, -1.83161667e+01,\n",
       "        -1.82260000e+01, -1.81358333e+01, -1.80456667e+01, -1.79555000e+01,\n",
       "        -1.78653333e+01, -1.77751667e+01, -1.76850000e+01, -1.75948333e+01,\n",
       "        -1.75046667e+01, -1.74145000e+01, -1.73243333e+01, -1.72341667e+01,\n",
       "        -1.71440000e+01, -1.70538333e+01, -1.69636667e+01, -1.68735000e+01,\n",
       "        -1.67833333e+01, -1.66931667e+01, -1.66030000e+01, -1.65128333e+01,\n",
       "        -1.64226667e+01, -1.63325000e+01, -1.62423333e+01, -1.61521667e+01,\n",
       "        -1.60620000e+01, -1.59718333e+01, -1.58816667e+01, -1.57915000e+01,\n",
       "        -1.57013333e+01, -1.56111667e+01, -1.55210000e+01, -1.54308333e+01,\n",
       "        -1.53406667e+01, -1.52505000e+01, -1.51603333e+01, -1.50701667e+01,\n",
       "        -1.49800000e+01, -1.48898333e+01, -1.47996667e+01, -1.47095000e+01,\n",
       "        -1.46193333e+01, -1.45291667e+01, -1.44390000e+01, -1.43488333e+01,\n",
       "        -1.42586667e+01, -1.41685000e+01, -1.40783333e+01, -1.39881667e+01,\n",
       "        -1.38980000e+01, -1.38078333e+01, -1.37176667e+01, -1.36275000e+01,\n",
       "        -1.35373333e+01, -1.34471667e+01, -1.33570000e+01, -1.32668333e+01,\n",
       "        -1.31766667e+01, -1.30865000e+01, -1.29963333e+01, -1.29061667e+01,\n",
       "        -1.28160000e+01, -1.27258333e+01, -1.26356667e+01, -1.25455000e+01,\n",
       "        -1.24553333e+01, -1.23651667e+01, -1.22750000e+01, -1.21848333e+01,\n",
       "        -1.20946667e+01, -1.20045000e+01, -1.19143333e+01, -1.18241667e+01,\n",
       "        -1.17340000e+01, -1.16438333e+01, -1.15536667e+01, -1.14635000e+01,\n",
       "        -1.13733333e+01, -1.12831667e+01, -1.11930000e+01, -1.11028333e+01,\n",
       "        -1.10126667e+01, -1.09225000e+01, -1.08323333e+01, -1.07421667e+01,\n",
       "        -1.06520000e+01, -1.05618333e+01, -1.04716667e+01, -1.03815000e+01,\n",
       "        -1.02913333e+01, -1.02011667e+01, -1.01110000e+01, -1.00208333e+01,\n",
       "        -9.93066667e+00, -9.84050000e+00, -9.75033333e+00, -9.66016667e+00,\n",
       "        -9.57000000e+00, -9.47983333e+00, -9.38966667e+00, -9.29950000e+00,\n",
       "        -9.20933333e+00, -9.11916667e+00, -9.02900000e+00, -8.93883333e+00,\n",
       "        -8.84866667e+00, -8.75850000e+00, -8.66833333e+00, -8.57816667e+00,\n",
       "        -8.48800000e+00, -8.39783333e+00, -8.30766667e+00, -8.21750000e+00,\n",
       "        -8.12733333e+00, -8.03716667e+00, -7.94700000e+00, -7.85683333e+00,\n",
       "        -7.76666667e+00, -7.67650000e+00, -7.58633333e+00, -7.49616667e+00,\n",
       "        -7.40600000e+00, -7.31583333e+00, -7.22566667e+00, -7.13550000e+00,\n",
       "        -7.04533333e+00, -6.95516667e+00, -6.86500000e+00, -6.77483333e+00,\n",
       "        -6.68466667e+00, -6.59450000e+00, -6.50433333e+00, -6.41416667e+00,\n",
       "        -6.32400000e+00, -6.23383333e+00, -6.14366667e+00, -6.05350000e+00,\n",
       "        -5.96333333e+00, -5.87316667e+00, -5.78300000e+00, -5.69283333e+00,\n",
       "        -5.60266667e+00, -5.51250000e+00, -5.42233333e+00, -5.33216667e+00,\n",
       "        -5.24200000e+00, -5.15183333e+00, -5.06166667e+00, -4.97150000e+00,\n",
       "        -4.88133333e+00, -4.79116667e+00, -4.70100000e+00, -4.61083333e+00,\n",
       "        -4.52066667e+00, -4.43050000e+00, -4.34033333e+00, -4.25016667e+00,\n",
       "        -4.16000000e+00, -4.06983333e+00, -3.97966667e+00, -3.88950000e+00,\n",
       "        -3.79933333e+00, -3.70916667e+00, -3.61900000e+00, -3.52883333e+00,\n",
       "        -3.43866667e+00, -3.34850000e+00, -3.25833333e+00, -3.16816667e+00,\n",
       "        -3.07800000e+00, -2.98783333e+00, -2.89766667e+00, -2.80750000e+00,\n",
       "        -2.71733333e+00, -2.62716667e+00, -2.53700000e+00, -2.44683333e+00,\n",
       "        -2.35666667e+00, -2.26650000e+00, -2.17633333e+00, -2.08616667e+00,\n",
       "        -1.99600000e+00, -1.90583333e+00, -1.81566667e+00, -1.72550000e+00,\n",
       "        -1.63533333e+00, -1.54516667e+00, -1.45500000e+00, -1.36483333e+00,\n",
       "        -1.27466667e+00, -1.18450000e+00, -1.09433333e+00, -1.00416667e+00,\n",
       "        -9.14000000e-01, -8.23833333e-01, -7.33666667e-01, -6.43500000e-01,\n",
       "        -5.53333333e-01, -4.63166667e-01, -3.73000000e-01, -2.82833333e-01,\n",
       "        -1.92666667e-01, -1.02500000e-01, -1.23333333e-02,  7.78333333e-02,\n",
       "         1.68000000e-01,  2.58166667e-01,  3.48333333e-01,  4.38500000e-01,\n",
       "         5.28666667e-01,  6.18833333e-01,  7.09000000e-01,  7.99166667e-01,\n",
       "         8.89333333e-01,  9.79500000e-01,  1.06966667e+00,  1.15983333e+00,\n",
       "         1.25000000e+00,  1.34016667e+00,  1.43033333e+00,  1.52050000e+00,\n",
       "         1.61066667e+00,  1.70083333e+00,  1.79100000e+00,  1.88116667e+00,\n",
       "         1.97133333e+00,  2.06150000e+00,  2.15166667e+00,  2.24183333e+00,\n",
       "         2.33200000e+00,  2.42216667e+00,  2.51233333e+00,  2.60250000e+00,\n",
       "         2.69266667e+00,  2.78283333e+00,  2.87300000e+00,  2.96316667e+00,\n",
       "         3.05333333e+00,  3.14350000e+00,  3.23366667e+00,  3.32383333e+00,\n",
       "         3.41400000e+00,  3.50416667e+00,  3.59433333e+00,  3.68450000e+00,\n",
       "         3.77466667e+00,  3.86483333e+00,  3.95500000e+00,  4.04516667e+00,\n",
       "         4.13533333e+00,  4.22550000e+00,  4.31566667e+00,  4.40583333e+00,\n",
       "         4.49600000e+00,  4.58616667e+00,  4.67633333e+00,  4.76650000e+00,\n",
       "         4.85666667e+00,  4.94683333e+00,  5.03700000e+00,  5.12716667e+00,\n",
       "         5.21733333e+00,  5.30750000e+00,  5.39766667e+00,  5.48783333e+00,\n",
       "         5.57800000e+00,  5.66816667e+00,  5.75833333e+00,  5.84850000e+00,\n",
       "         5.93866667e+00,  6.02883333e+00,  6.11900000e+00,  6.20916667e+00,\n",
       "         6.29933333e+00,  6.38950000e+00,  6.47966667e+00,  6.56983333e+00,\n",
       "         6.66000000e+00,  6.75016667e+00,  6.84033333e+00,  6.93050000e+00,\n",
       "         7.02066667e+00,  7.11083333e+00,  7.20100000e+00,  7.29116667e+00,\n",
       "         7.38133333e+00,  7.47150000e+00,  7.56166667e+00,  7.65183333e+00,\n",
       "         7.74200000e+00,  7.83216667e+00,  7.92233333e+00,  8.01250000e+00,\n",
       "         8.10266667e+00,  8.19283333e+00,  8.28300000e+00,  8.37316667e+00,\n",
       "         8.46333333e+00,  8.55350000e+00,  8.64366667e+00,  8.73383333e+00,\n",
       "         8.82400000e+00,  8.91416667e+00,  9.00433333e+00,  9.09450000e+00,\n",
       "         9.18466667e+00,  9.27483333e+00,  9.36500000e+00,  9.45516667e+00,\n",
       "         9.54533333e+00,  9.63550000e+00,  9.72566667e+00,  9.81583333e+00,\n",
       "         9.90600000e+00,  9.99616667e+00,  1.00863333e+01,  1.01765000e+01,\n",
       "         1.02666667e+01,  1.03568333e+01,  1.04470000e+01,  1.05371667e+01,\n",
       "         1.06273333e+01,  1.07175000e+01,  1.08076667e+01,  1.08978333e+01,\n",
       "         1.09880000e+01,  1.10781667e+01,  1.11683333e+01,  1.12585000e+01,\n",
       "         1.13486667e+01,  1.14388333e+01,  1.15290000e+01,  1.16191667e+01,\n",
       "         1.17093333e+01,  1.17995000e+01,  1.18896667e+01,  1.19798333e+01,\n",
       "         1.20700000e+01,  1.21601667e+01,  1.22503333e+01,  1.23405000e+01,\n",
       "         1.24306667e+01,  1.25208333e+01,  1.26110000e+01,  1.27011667e+01,\n",
       "         1.27913333e+01,  1.28815000e+01,  1.29716667e+01,  1.30618333e+01,\n",
       "         1.31520000e+01,  1.32421667e+01,  1.33323333e+01,  1.34225000e+01,\n",
       "         1.35126667e+01,  1.36028333e+01,  1.36930000e+01,  1.37831667e+01,\n",
       "         1.38733333e+01,  1.39635000e+01,  1.40536667e+01,  1.41438333e+01,\n",
       "         1.42340000e+01,  1.43241667e+01,  1.44143333e+01,  1.45045000e+01,\n",
       "         1.45946667e+01,  1.46848333e+01,  1.47750000e+01,  1.48651667e+01,\n",
       "         1.49553333e+01,  1.50455000e+01,  1.51356667e+01,  1.52258333e+01,\n",
       "         1.53160000e+01,  1.54061667e+01,  1.54963333e+01,  1.55865000e+01,\n",
       "         1.56766667e+01,  1.57668333e+01,  1.58570000e+01,  1.59471667e+01,\n",
       "         1.60373333e+01,  1.61275000e+01,  1.62176667e+01,  1.63078333e+01,\n",
       "         1.63980000e+01,  1.64881667e+01,  1.65783333e+01,  1.66685000e+01,\n",
       "         1.67586667e+01,  1.68488333e+01,  1.69390000e+01,  1.70291667e+01,\n",
       "         1.71193333e+01,  1.72095000e+01,  1.72996667e+01,  1.73898333e+01,\n",
       "         1.74800000e+01,  1.75701667e+01,  1.76603333e+01,  1.77505000e+01,\n",
       "         1.78406667e+01,  1.79308333e+01,  1.80210000e+01,  1.81111667e+01,\n",
       "         1.82013333e+01,  1.82915000e+01,  1.83816667e+01,  1.84718333e+01,\n",
       "         1.85620000e+01,  1.86521667e+01,  1.87423333e+01,  1.88325000e+01,\n",
       "         1.89226667e+01,  1.90128333e+01,  1.91030000e+01,  1.91931667e+01,\n",
       "         1.92833333e+01,  1.93735000e+01,  1.94636667e+01,  1.95538333e+01,\n",
       "         1.96440000e+01,  1.97341667e+01,  1.98243333e+01,  1.99145000e+01,\n",
       "         2.00046667e+01,  2.00948333e+01,  2.01850000e+01,  2.02751667e+01,\n",
       "         2.03653333e+01,  2.04555000e+01,  2.05456667e+01,  2.06358333e+01,\n",
       "         2.07260000e+01,  2.08161667e+01,  2.09063333e+01,  2.09965000e+01,\n",
       "         2.10866667e+01,  2.11768333e+01,  2.12670000e+01,  2.13571667e+01,\n",
       "         2.14473333e+01,  2.15375000e+01,  2.16276667e+01,  2.17178333e+01,\n",
       "         2.18080000e+01,  2.18981667e+01,  2.19883333e+01,  2.20785000e+01,\n",
       "         2.21686667e+01,  2.22588333e+01,  2.23490000e+01,  2.24391667e+01,\n",
       "         2.25293333e+01,  2.26195000e+01,  2.27096667e+01,  2.27998333e+01,\n",
       "         2.28900000e+01,  2.29801667e+01,  2.30703333e+01,  2.31605000e+01,\n",
       "         2.32506667e+01,  2.33408333e+01,  2.34310000e+01,  2.35211667e+01,\n",
       "         2.36113333e+01,  2.37015000e+01,  2.37916667e+01,  2.38818333e+01,\n",
       "         2.39720000e+01,  2.40621667e+01,  2.41523333e+01,  2.42425000e+01,\n",
       "         2.43326667e+01,  2.44228333e+01,  2.45130000e+01,  2.46031667e+01,\n",
       "         2.46933333e+01,  2.47835000e+01,  2.48736667e+01,  2.49638333e+01,\n",
       "         2.50540000e+01,  2.51441667e+01,  2.52343333e+01,  2.53245000e+01,\n",
       "         2.54146667e+01,  2.55048333e+01,  2.55950000e+01,  2.56851667e+01,\n",
       "         2.57753333e+01,  2.58655000e+01,  2.59556667e+01,  2.60458333e+01,\n",
       "         2.61360000e+01,  2.62261667e+01,  2.63163333e+01,  2.64065000e+01,\n",
       "         2.64966667e+01,  2.65868333e+01,  2.66770000e+01,  2.67671667e+01,\n",
       "         2.68573333e+01,  2.69475000e+01,  2.70376667e+01,  2.71278333e+01,\n",
       "         2.72180000e+01,  2.73081667e+01,  2.73983333e+01,  2.74885000e+01,\n",
       "         2.75786667e+01,  2.76688333e+01,  2.77590000e+01,  2.78491667e+01,\n",
       "         2.79393333e+01,  2.80295000e+01,  2.81196667e+01,  2.82098333e+01,\n",
       "         2.83000000e+01]),\n",
       " <BarContainer object of 600 artists>)"
      ]
     },
     "execution_count": 136,
     "metadata": {},
     "output_type": "execute_result"
    },
    {
     "data": {
      "image/png": "[encoded data removed]",
      "text/plain": [
       "<Figure size 432x288 with 1 Axes>"
      ]
     },
     "metadata": {
      "needs_background": "light"
     },
     "output_type": "display_data"
    }
   ],
   "source": [
    "plt.hist(tmax,bins=600)\n",
    "#OTRa forma de hacerlo es decir toma estos datos y dividenlos en 600 intervalos y grafica la cuenta de repeticion"
   ]
  },
  {
   "cell_type": "code",
   "execution_count": null,
   "id": "db0fe6ac-b087-46e4-a19f-0f71334cbd47",
   "metadata": {},
   "outputs": [],
   "source": []
  }
 ],
 "metadata": {
  "kernelspec": {
   "display_name": "Python 3",
   "language": "python",
   "name": "python3"
  },
  "language_info": {
   "codemirror_mode": {
    "name": "ipython",
    "version": 3
   },
   "file_extension": ".py",
   "mimetype": "text/x-python",
   "name": "python",
   "nbconvert_exporter": "python",
   "pygments_lexer": "ipython3",
   "version": "3.8.8"
  }
 },
 "nbformat": 4,
 "nbformat_minor": 5
}
